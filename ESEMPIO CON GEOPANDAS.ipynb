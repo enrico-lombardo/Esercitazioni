{
 "cells": [
  {
   "cell_type": "code",
   "execution_count": 1,
   "metadata": {},
   "outputs": [],
   "source": [
    "import pandas as pd\n",
    "import geopandas as gpd\n",
    "\n",
    "from bs4 import BeautifulSoup\n",
    "import requests"
   ]
  },
  {
   "cell_type": "code",
   "execution_count": 2,
   "metadata": {},
   "outputs": [],
   "source": [
    "def fetch_datarow(row):\n",
    "    cols = row.select('td')\n",
    "    return dict(name=cols[1].text,\n",
    "                population=cols[2].text.replace('.', '').replace(',', '.'),\n",
    "                area=cols[3].text.replace('.', '').replace(',', '.'))\n"
   ]
  },
  {
   "cell_type": "code",
   "execution_count": 3,
   "metadata": {},
   "outputs": [],
   "source": [
    "def fetch_population():\n",
    "    df = []\n",
    "    r = requests.get(\"https://www.tuttitalia.it/regioni/popolazione/\")\n",
    "    if r.status_code == 200:\n",
    "        # usiamo il parser html5lib perchè il sito è complesso\n",
    "        soup = BeautifulSoup(r.text, 'html5lib')\n",
    "        lines = soup.select('table.ut tr')[1:21]\n",
    "        for row in lines:\n",
    "            df.append(fetch_datarow(row))\n",
    "    return pd.DataFrame(df)"
   ]
  },
  {
   "cell_type": "code",
   "execution_count": 4,
   "metadata": {},
   "outputs": [
    {
     "name": "stdout",
     "output_type": "stream",
     "text": [
      "        area         name population\n",
      "0   23863.65    Lombardia   10019166\n",
      "1   17232.29        Lazio    5898124\n",
      "2   13670.95     Campania    5839084\n",
      "3   25832.39      Sicilia    5056641\n",
      "4   18345.35       Veneto    4906210\n",
      "5   22452.78  Em.-Romagna    4448841\n",
      "6   25387.07     Piemonte    4392526\n",
      "7   19540.90       Puglia    4063888\n",
      "8   22987.04      Toscana    3742437\n",
      "9   15221.90     Calabria    1965128\n",
      "10  24100.02     Sardegna    1653135\n",
      "11   5416.21      Liguria    1565307\n",
      "12   9401.38       Marche    1538055\n",
      "13  10831.84      Abruzzo    1322247\n",
      "14   7924.36    Friuli VG    1219191\n",
      "15  13605.50  Trentino-AA    1062860\n",
      "16   8464.33       Umbria     888908\n",
      "17  10073.32   Basilicata     570365\n",
      "18   4460.65       Molise     310449\n",
      "19   3260.90   V. d'Aosta     126883\n"
     ]
    }
   ],
   "source": [
    "df = fetch_population()\n",
    "print(df)"
   ]
  },
  {
   "cell_type": "code",
   "execution_count": 7,
   "metadata": {},
   "outputs": [
    {
     "name": "stdout",
     "output_type": "stream",
     "text": [
      "   COD_REG  COD_ISTAT  PRO_COM      SEZ2011   SEZ  COD_STAGNO  COD_FIUME  \\\n",
      "0      1.0  1002011.0   2011.0  20110000007   7.0         0.0        0.0   \n",
      "1      1.0  1003146.0   3146.0  31460000002   2.0         0.0        0.0   \n",
      "2      1.0  1003049.0   3049.0  30490000005   5.0         0.0        0.0   \n",
      "3      1.0  1003049.0   3049.0  30490000006   6.0         0.0        0.0   \n",
      "4      1.0  1003149.0   3149.0  31490000027  27.0         0.0        0.0   \n",
      "\n",
      "   COD_LAGO  COD_LAGUNA  COD_VAL_P  \\\n",
      "0       0.0         0.0        0.0   \n",
      "1       0.0         0.0        0.0   \n",
      "2       0.0         0.0        0.0   \n",
      "3       0.0         0.0        0.0   \n",
      "4       0.0         0.0        0.0   \n",
      "\n",
      "                         ...                          COD_MONT_D      LOC2011  \\\n",
      "0                        ...                                 0.0  201140001.0   \n",
      "1                        ...                                 0.0  314610002.0   \n",
      "2                        ...                                 0.0  304910001.0   \n",
      "3                        ...                                 0.0  304910001.0   \n",
      "4                        ...                                 0.0  314910002.0   \n",
      "\n",
      "   COD_LOC  TIPO_LOC  COM_ASC  COD_ASC  ACE    Shape_Leng    Shape_Area  \\\n",
      "0  40001.0       4.0      0.0        0    0  11281.864389  3.470390e+06   \n",
      "1  10002.0       1.0      0.0        0    0   2177.200562  9.928513e+04   \n",
      "2  10001.0       1.0      0.0        0    0   2536.120151  1.482205e+05   \n",
      "3  10001.0       1.0      0.0        0    0   3509.936363  1.816310e+05   \n",
      "4  10002.0       1.0      0.0        0    0   2331.778241  1.056746e+05   \n",
      "\n",
      "                                            geometry  \n",
      "0  POLYGON ((431319.3305860714 5019976.709519678,...  \n",
      "1  POLYGON ((480902.1161876977 5021475.204983691,...  \n",
      "2  POLYGON ((482472.8853394178 5029179.146050379,...  \n",
      "3  POLYGON ((482562.3318623214 5029459.17066698, ...  \n",
      "4  POLYGON ((480894.1478711576 5031177.33108622, ...  \n",
      "\n",
      "[5 rows x 25 columns]\n"
     ]
    },
    {
     "data": {
      "text/plain": [
       "<matplotlib.axes._subplots.AxesSubplot at 0x228e082e3c8>"
      ]
     },
     "execution_count": 7,
     "metadata": {},
     "output_type": "execute_result"
    }
   ],
   "source": [
    "regione_piemonte = gpd.read_file('Desktop/R01_11_WGS84.shp')\n",
    "print(regione_piemonte.head())\n",
    "regione_piemonte.plot()\n"
   ]
  },
  {
   "cell_type": "code",
   "execution_count": null,
   "metadata": {},
   "outputs": [],
   "source": []
  }
 ],
 "metadata": {
  "kernelspec": {
   "display_name": "Python 3",
   "language": "python",
   "name": "python3"
  },
  "language_info": {
   "codemirror_mode": {
    "name": "ipython",
    "version": 3
   },
   "file_extension": ".py",
   "mimetype": "text/x-python",
   "name": "python",
   "nbconvert_exporter": "python",
   "pygments_lexer": "ipython3",
   "version": "3.6.4"
  }
 },
 "nbformat": 4,
 "nbformat_minor": 2
}
