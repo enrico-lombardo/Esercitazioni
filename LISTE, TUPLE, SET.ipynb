{
 "cells": [
  {
   "cell_type": "code",
   "execution_count": 2,
   "metadata": {},
   "outputs": [
    {
     "name": "stdout",
     "output_type": "stream",
     "text": [
      "<class 'str'> Andrea\n",
      "1571231918040\n"
     ]
    }
   ],
   "source": [
    "nome = 'Andrea'\n",
    "print(type(nome), nome) \n",
    "print(id(nome))\n",
    "# mostrami il tipo di stringa, il nome della stringa\n",
    "## mostra l'id della stringa"
   ]
  },
  {
   "cell_type": "code",
   "execution_count": 3,
   "metadata": {},
   "outputs": [
    {
     "name": "stdout",
     "output_type": "stream",
     "text": [
      "<class 'str'> Andrea Elena\n",
      "1571231887024\n"
     ]
    }
   ],
   "source": [
    "nome = nome + ' Elena'\n",
    "print(type(nome), nome) \n",
    "print(id(nome))\n",
    "# mostrami il tipo di stringa, il nome della stringa\n",
    "## mostra l'id della stringa"
   ]
  },
  {
   "cell_type": "code",
   "execution_count": 4,
   "metadata": {},
   "outputs": [
    {
     "name": "stdout",
     "output_type": "stream",
     "text": [
      "<class 'int'> 2017\n",
      "1571231513328\n"
     ]
    }
   ],
   "source": [
    "year = 2017\n",
    "print(type(year), year) \n",
    "print(id(year))"
   ]
  },
  {
   "cell_type": "code",
   "execution_count": 5,
   "metadata": {},
   "outputs": [
    {
     "name": "stdout",
     "output_type": "stream",
     "text": [
      "<class 'int'> 2018\n",
      "1571231513584\n"
     ]
    }
   ],
   "source": [
    "year = 2017 + 1\n",
    "print(type(year), year) \n",
    "print(id(year))"
   ]
  },
  {
   "cell_type": "code",
   "execution_count": 8,
   "metadata": {},
   "outputs": [
    {
     "name": "stdout",
     "output_type": "stream",
     "text": [
      "<class 'list'> [4, 2, 3, 5, 4, 2, 2]\n",
      "1571232026696\n"
     ]
    }
   ],
   "source": [
    "punteggio = [4,2,3,5,4,2,2]\n",
    "print(type(punteggio), punteggio) \n",
    "print(id(punteggio))\n",
    "# mostrami il tipo di stringa, il nome della stringa\n",
    "## mostra l'id della stringa"
   ]
  },
  {
   "cell_type": "code",
   "execution_count": 9,
   "metadata": {},
   "outputs": [
    {
     "name": "stdout",
     "output_type": "stream",
     "text": [
      "<class 'list'> [4, 2, 3, 5, 4, 2, 2, 5]\n",
      "1571232026696\n"
     ]
    }
   ],
   "source": [
    "punteggio.append(5) \n",
    "print(type(punteggio), punteggio) \n",
    "print(id(punteggio))\n",
    "# append vuol dire aggiungi alla mia lista il 5"
   ]
  },
  {
   "cell_type": "code",
   "execution_count": 10,
   "metadata": {},
   "outputs": [
    {
     "name": "stdout",
     "output_type": "stream",
     "text": [
      "('Pyhton', 'Rust', 'C', 'JavaScript')\n",
      "<class 'tuple'>\n"
     ]
    }
   ],
   "source": [
    "# creaiamo una tupla con le parentesi tonde\n",
    "linguaggi = ('Pyhton', 'Rust', 'C', 'JavaScript') \n",
    "print(linguaggi)\n",
    "print(type(linguaggi))"
   ]
  },
  {
   "cell_type": "code",
   "execution_count": 15,
   "metadata": {},
   "outputs": [
    {
     "name": "stdout",
     "output_type": "stream",
     "text": [
      "['Pyhton', ' Rust', ' C', ' JavaScript']\n",
      "<class 'list'>\n"
     ]
    }
   ],
   "source": [
    "# possiamo creare una lista 'splittando' una stringa\n",
    "## la lista è sempre identificata dalle parentesi quadre\n",
    "linguaggi = 'Pyhton, Rust, C, JavaScript'.split(',') \n",
    "print(linguaggi)\n",
    "print(type(linguaggi))"
   ]
  },
  {
   "cell_type": "code",
   "execution_count": 14,
   "metadata": {},
   "outputs": [],
   "source": [
    "# la differenza sostanziale tra creare una tupla e una lista di lasse è:\n",
    "## tupla ---- mettere ognuna delle variabili tra apici e poi tutte all'interno di una stessa parentesi tonda vendi in[10]\n",
    "### classe lista --- mettere le variabili tra apici splittate dalla ,  vedi in[13]"
   ]
  },
  {
   "cell_type": "code",
   "execution_count": 26,
   "metadata": {},
   "outputs": [
    {
     "name": "stdout",
     "output_type": "stream",
     "text": [
      "['cuori', ' quadri', ' fiori']\n",
      "<class 'list'>\n"
     ]
    }
   ],
   "source": [
    "semi = 'cuori, quadri, fiori'.split(',') # possiamo creare una lista 'splittando' una stringa, \n",
    "print(semi) # la lista è sempre identificata dalle parentesi quadre\n",
    "print(type(semi))"
   ]
  },
  {
   "cell_type": "code",
   "execution_count": 27,
   "metadata": {},
   "outputs": [
    {
     "data": {
      "text/plain": [
       "['cuori', ' quadri', ' fiori', 'picche']"
      ]
     },
     "execution_count": 27,
     "metadata": {},
     "output_type": "execute_result"
    }
   ],
   "source": [
    "semi.append('picche')\n",
    "semi"
   ]
  },
  {
   "cell_type": "code",
   "execution_count": 28,
   "metadata": {},
   "outputs": [
    {
     "data": {
      "text/plain": [
       "['cuori', ' quadri', ' fiori']"
      ]
     },
     "execution_count": 28,
     "metadata": {},
     "output_type": "execute_result"
    }
   ],
   "source": [
    "semi.pop()\n",
    "semi\n",
    "# il comando pop rimuove e restituisce l'ultimo oggetto dell'elenco"
   ]
  },
  {
   "cell_type": "code",
   "execution_count": 30,
   "metadata": {},
   "outputs": [
    {
     "data": {
      "text/plain": [
       "range(0, 9)"
      ]
     },
     "execution_count": 30,
     "metadata": {},
     "output_type": "execute_result"
    }
   ],
   "source": [
    "range(9)\n",
    "# mi mostra il range tra 0 e 9"
   ]
  },
  {
   "cell_type": "code",
   "execution_count": 31,
   "metadata": {},
   "outputs": [
    {
     "data": {
      "text/plain": [
       "[5, 10, 15, 20, 25, 30, 35, 40, 45, 50]"
      ]
     },
     "execution_count": 31,
     "metadata": {},
     "output_type": "execute_result"
    }
   ],
   "source": [
    "list(range(5,51,5))\n",
    "# voglio creare una lista che vada da 5 a 50 a passi di 5"
   ]
  },
  {
   "cell_type": "code",
   "execution_count": 32,
   "metadata": {},
   "outputs": [
    {
     "data": {
      "text/plain": [
       "[0, 1, 2, 3, 4, 5, 6, 7, 8]"
      ]
     },
     "execution_count": 32,
     "metadata": {},
     "output_type": "execute_result"
    }
   ],
   "source": [
    "list(range(9))"
   ]
  },
  {
   "cell_type": "code",
   "execution_count": 33,
   "metadata": {},
   "outputs": [
    {
     "data": {
      "text/plain": [
       "[0, 1, 2, 3, 4, 5, 6, 7, 8, 9]"
      ]
     },
     "execution_count": 33,
     "metadata": {},
     "output_type": "execute_result"
    }
   ],
   "source": [
    "digits = list(range(10)) # list converte un range in lista\n",
    "digits"
   ]
  },
  {
   "cell_type": "code",
   "execution_count": 34,
   "metadata": {},
   "outputs": [
    {
     "data": {
      "text/plain": [
       "[9, 8, 7, 6, 5, 4, 3, 2, 1, 0]"
      ]
     },
     "execution_count": 34,
     "metadata": {},
     "output_type": "execute_result"
    }
   ],
   "source": [
    "digits.sort(reverse=True) # ordinamento dal più grande al più piccolo\n",
    "digits"
   ]
  },
  {
   "cell_type": "code",
   "execution_count": 35,
   "metadata": {},
   "outputs": [
    {
     "data": {
      "text/plain": [
       "[]"
      ]
     },
     "execution_count": 35,
     "metadata": {},
     "output_type": "execute_result"
    }
   ],
   "source": [
    "# Inizializzo una lista vuota\n",
    "fisici=[]\n",
    "fisici"
   ]
  },
  {
   "cell_type": "code",
   "execution_count": 36,
   "metadata": {},
   "outputs": [
    {
     "data": {
      "text/plain": [
       "['Feynman']"
      ]
     },
     "execution_count": 36,
     "metadata": {},
     "output_type": "execute_result"
    }
   ],
   "source": [
    "fisici.append('Feynman')\n",
    "fisici"
   ]
  },
  {
   "cell_type": "code",
   "execution_count": 37,
   "metadata": {},
   "outputs": [
    {
     "data": {
      "text/plain": [
       "['Feynman', [3.14, 2.72]]"
      ]
     },
     "execution_count": 37,
     "metadata": {},
     "output_type": "execute_result"
    }
   ],
   "source": [
    "# Posso avere una lista dentro una lista e diversi formati\n",
    "fisici.append([3.14, 2.72])\n",
    "fisici"
   ]
  },
  {
   "cell_type": "code",
   "execution_count": 42,
   "metadata": {},
   "outputs": [],
   "source": [
    "a = [1,2,3,4,5,6]\n",
    "seta = set(a) \n",
    "\n",
    "b = [4,5,6,7,8,9,100]\n",
    "setb = set(b)\n",
    "#genero due set a partire da una lista"
   ]
  },
  {
   "cell_type": "code",
   "execution_count": 40,
   "metadata": {},
   "outputs": [
    {
     "data": {
      "text/plain": [
       "({1, 2, 3}, set)"
      ]
     },
     "execution_count": 40,
     "metadata": {},
     "output_type": "execute_result"
    }
   ],
   "source": [
    "seta-setb, type(seta-setb)\n",
    "# tolgo l'intersezione nel primo set tra i due set ovvero 4,5,6"
   ]
  },
  {
   "cell_type": "code",
   "execution_count": 41,
   "metadata": {},
   "outputs": [
    {
     "data": {
      "text/plain": [
       "({7, 8, 9, 100}, set)"
      ]
     },
     "execution_count": 41,
     "metadata": {},
     "output_type": "execute_result"
    }
   ],
   "source": [
    "setb-seta, type(seta-setb)"
   ]
  },
  {
   "cell_type": "code",
   "execution_count": 44,
   "metadata": {},
   "outputs": [
    {
     "data": {
      "text/plain": [
       "{1, 2, 3, 4, 5, 6, 7, 8, 9, 100}"
      ]
     },
     "execution_count": 44,
     "metadata": {},
     "output_type": "execute_result"
    }
   ],
   "source": [
    "seta | setb\n",
    "# unisco i due set dove ovviamente comparirà una volta sola l'intersezione tra i due 4,5,6"
   ]
  },
  {
   "cell_type": "code",
   "execution_count": 45,
   "metadata": {},
   "outputs": [
    {
     "data": {
      "text/plain": [
       "{4, 5, 6}"
      ]
     },
     "execution_count": 45,
     "metadata": {},
     "output_type": "execute_result"
    }
   ],
   "source": [
    "seta & setb\n",
    "# trova l'intersezione tra i due set"
   ]
  },
  {
   "cell_type": "code",
   "execution_count": 47,
   "metadata": {},
   "outputs": [
    {
     "data": {
      "text/plain": [
       "{1, 2, 3, 7, 8, 9, 100}"
      ]
     },
     "execution_count": 47,
     "metadata": {},
     "output_type": "execute_result"
    }
   ],
   "source": [
    "seta ^ setb\n",
    "# mi mostra i due set senza l'intersezione"
   ]
  },
  {
   "cell_type": "code",
   "execution_count": null,
   "metadata": {},
   "outputs": [],
   "source": []
  }
 ],
 "metadata": {
  "kernelspec": {
   "display_name": "Python 3",
   "language": "python",
   "name": "python3"
  },
  "language_info": {
   "codemirror_mode": {
    "name": "ipython",
    "version": 3
   },
   "file_extension": ".py",
   "mimetype": "text/x-python",
   "name": "python",
   "nbconvert_exporter": "python",
   "pygments_lexer": "ipython3",
   "version": "3.6.4"
  }
 },
 "nbformat": 4,
 "nbformat_minor": 2
}
